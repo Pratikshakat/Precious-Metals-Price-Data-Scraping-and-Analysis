{
 "cells": [
  {
   "cell_type": "code",
   "execution_count": null,
   "id": "9a05bcbe-54e8-44e8-8906-62d26b998721",
   "metadata": {},
   "outputs": [],
   "source": []
  },
  {
   "cell_type": "code",
   "execution_count": 1,
   "id": "2b5d3176-5a88-4f41-842d-0bce64f1c5e1",
   "metadata": {},
   "outputs": [
    {
     "name": "stdout",
     "output_type": "stream",
     "text": [
      "Defaulting to user installation because normal site-packages is not writeableNote: you may need to restart the kernel to use updated packages.\n",
      "\n",
      "Requirement already satisfied: requests in c:\\users\\omkar\\appdata\\roaming\\python\\python311\\site-packages (2.31.0)\n",
      "Requirement already satisfied: charset-normalizer<4,>=2 in c:\\users\\omkar\\appdata\\roaming\\python\\python311\\site-packages (from requests) (3.2.0)\n",
      "Requirement already satisfied: idna<4,>=2.5 in c:\\users\\omkar\\appdata\\roaming\\python\\python311\\site-packages (from requests) (3.4)\n",
      "Requirement already satisfied: urllib3<3,>=1.21.1 in c:\\users\\omkar\\appdata\\roaming\\python\\python311\\site-packages (from requests) (1.26.16)\n",
      "Requirement already satisfied: certifi>=2017.4.17 in c:\\users\\omkar\\appdata\\roaming\\python\\python311\\site-packages (from requests) (2023.7.22)\n"
     ]
    }
   ],
   "source": [
    "pip install requests"
   ]
  },
  {
   "cell_type": "code",
   "execution_count": 2,
   "id": "f3e85597-e3d7-4276-a1ea-303883d0dbad",
   "metadata": {},
   "outputs": [
    {
     "name": "stdout",
     "output_type": "stream",
     "text": [
      "Defaulting to user installation because normal site-packages is not writeable\n",
      "Requirement already satisfied: beautifulsoup4 in c:\\users\\omkar\\appdata\\roaming\\python\\python311\\site-packages (4.12.2)\n",
      "Requirement already satisfied: soupsieve>1.2 in c:\\users\\omkar\\appdata\\roaming\\python\\python311\\site-packages (from beautifulsoup4) (2.4.1)\n",
      "Note: you may need to restart the kernel to use updated packages.\n"
     ]
    }
   ],
   "source": [
    "pip install beautifulsoup4"
   ]
  },
  {
   "cell_type": "code",
   "execution_count": 3,
   "id": "06748ae9-9533-4042-bb55-3b4076f2c81a",
   "metadata": {},
   "outputs": [
    {
     "name": "stdout",
     "output_type": "stream",
     "text": [
      "Defaulting to user installation because normal site-packages is not writeable\n",
      "Requirement already satisfied: pandas in c:\\users\\omkar\\appdata\\roaming\\python\\python311\\site-packages (2.1.1)\n",
      "Requirement already satisfied: numpy>=1.23.2 in c:\\users\\omkar\\appdata\\roaming\\python\\python311\\site-packages (from pandas) (1.26.0)\n",
      "Requirement already satisfied: python-dateutil>=2.8.2 in c:\\users\\omkar\\appdata\\roaming\\python\\python311\\site-packages (from pandas) (2.8.2)\n",
      "Requirement already satisfied: pytz>=2020.1 in c:\\users\\omkar\\appdata\\roaming\\python\\python311\\site-packages (from pandas) (2023.3)\n",
      "Requirement already satisfied: tzdata>=2022.1 in c:\\users\\omkar\\appdata\\roaming\\python\\python311\\site-packages (from pandas) (2023.3)\n",
      "Requirement already satisfied: six>=1.5 in c:\\users\\omkar\\appdata\\roaming\\python\\python311\\site-packages (from python-dateutil>=2.8.2->pandas) (1.16.0)\n",
      "Note: you may need to restart the kernel to use updated packages.\n"
     ]
    }
   ],
   "source": [
    "pip install pandas"
   ]
  },
  {
   "cell_type": "code",
   "execution_count": 4,
   "id": "1e47310c-8afc-48fa-a4c0-c0be90c8b78c",
   "metadata": {},
   "outputs": [],
   "source": [
    "import pandas as pd \n",
    "import requests\n",
    "from bs4 import BeautifulSoup as bs"
   ]
  },
  {
   "cell_type": "code",
   "execution_count": 5,
   "id": "d11e809f-25ed-49ac-bd27-9378b596c3c5",
   "metadata": {},
   "outputs": [],
   "source": [
    "links=[2018,2019,2020,2021,2022,2023]\n",
    "date=[]\n",
    "day=[]\n",
    "price=[]\n",
    "change=[]\n",
    "for link in links:\n",
    "    site=requests.get(f\"https://www.rupeerates.in/Platinum/{link}\")\n",
    "    #print(site)\n",
    "    site.content\n",
    "    data=bs(site.content,\"html.parser\")\n",
    "    data.prettify()\n",
    "    \n",
    "    for i in data.find_all('div',{\"class\":\"c\"})[4::4]:\n",
    "        date.append(i.text)\n",
    "    #print(date)\n",
    "   \n",
    "    for j in data.find_all('span',class_=\"day-caption\"):\n",
    "        day.append(j.text)\n",
    "    #print(day)\n",
    "    \n",
    "    for k in data.find_all('div',class_=\"c text-right\"):\n",
    "        price.append(k.text)\n",
    "    #print(price)\n",
    "    \n",
    "    for l in data.find_all('div', class_=\"c text-center\"):\n",
    "        change.append(l.text)\n",
    "    #print(change)"
   ]
  },
  {
   "cell_type": "code",
   "execution_count": 6,
   "id": "b2568079-ae5d-4137-a830-16fb1ac659e2",
   "metadata": {},
   "outputs": [
    {
     "name": "stdout",
     "output_type": "stream",
     "text": [
      "1499\n",
      "1499\n",
      "1499\n",
      "1499\n"
     ]
    }
   ],
   "source": [
    "print(len(date))\n",
    "print(len(day))\n",
    "print(len(price))\n",
    "print(len(change))"
   ]
  },
  {
   "cell_type": "code",
   "execution_count": 7,
   "id": "f5c0ee2b-65b5-474d-9422-fc602eb3d087",
   "metadata": {},
   "outputs": [
    {
     "data": {
      "text/html": [
       "<div>\n",
       "<style scoped>\n",
       "    .dataframe tbody tr th:only-of-type {\n",
       "        vertical-align: middle;\n",
       "    }\n",
       "\n",
       "    .dataframe tbody tr th {\n",
       "        vertical-align: top;\n",
       "    }\n",
       "\n",
       "    .dataframe thead th {\n",
       "        text-align: right;\n",
       "    }\n",
       "</style>\n",
       "<table border=\"1\" class=\"dataframe\">\n",
       "  <thead>\n",
       "    <tr style=\"text-align: right;\">\n",
       "      <th></th>\n",
       "      <th>Date</th>\n",
       "      <th>Day</th>\n",
       "      <th>Price Per Gram</th>\n",
       "      <th>Change</th>\n",
       "    </tr>\n",
       "  </thead>\n",
       "  <tbody>\n",
       "    <tr>\n",
       "      <th>0</th>\n",
       "      <td>01-01-2018</td>\n",
       "      <td>Monday</td>\n",
       "      <td>₹ 1,910.27</td>\n",
       "      <td>+0.18%</td>\n",
       "    </tr>\n",
       "    <tr>\n",
       "      <th>1</th>\n",
       "      <td>02-01-2018</td>\n",
       "      <td>Tuesday</td>\n",
       "      <td>₹ 1,912.20</td>\n",
       "      <td>+0.10%</td>\n",
       "    </tr>\n",
       "    <tr>\n",
       "      <th>2</th>\n",
       "      <td>03-01-2018</td>\n",
       "      <td>Wednesday</td>\n",
       "      <td>₹ 1,917.98</td>\n",
       "      <td>+0.30%</td>\n",
       "    </tr>\n",
       "    <tr>\n",
       "      <th>3</th>\n",
       "      <td>04-01-2018</td>\n",
       "      <td>Thursday</td>\n",
       "      <td>₹ 1,932.21</td>\n",
       "      <td>+0.74%</td>\n",
       "    </tr>\n",
       "    <tr>\n",
       "      <th>4</th>\n",
       "      <td>05-01-2018</td>\n",
       "      <td>Friday</td>\n",
       "      <td>₹ 1,960.03</td>\n",
       "      <td>+1.42%</td>\n",
       "    </tr>\n",
       "    <tr>\n",
       "      <th>...</th>\n",
       "      <td>...</td>\n",
       "      <td>...</td>\n",
       "      <td>...</td>\n",
       "      <td>...</td>\n",
       "    </tr>\n",
       "    <tr>\n",
       "      <th>1494</th>\n",
       "      <td>28-09-2023</td>\n",
       "      <td>Thursday</td>\n",
       "      <td>₹ 2,387.08</td>\n",
       "      <td>-1.04%</td>\n",
       "    </tr>\n",
       "    <tr>\n",
       "      <th>1495</th>\n",
       "      <td>29-09-2023</td>\n",
       "      <td>Friday</td>\n",
       "      <td>₹ 2,448.73</td>\n",
       "      <td>+2.52%</td>\n",
       "    </tr>\n",
       "    <tr>\n",
       "      <th>1496</th>\n",
       "      <td>02-10-2023</td>\n",
       "      <td>Monday</td>\n",
       "      <td>₹ 2,405.23</td>\n",
       "      <td>-1.81%</td>\n",
       "    </tr>\n",
       "    <tr>\n",
       "      <th>1497</th>\n",
       "      <td>03-10-2023</td>\n",
       "      <td>Tuesday</td>\n",
       "      <td>₹ 2,348.22</td>\n",
       "      <td>-2.43%</td>\n",
       "    </tr>\n",
       "    <tr>\n",
       "      <th>1498</th>\n",
       "      <td>04-10-2023</td>\n",
       "      <td>Wednesday</td>\n",
       "      <td>₹ 2,320.75</td>\n",
       "      <td>-1.18%</td>\n",
       "    </tr>\n",
       "  </tbody>\n",
       "</table>\n",
       "<p>1499 rows × 4 columns</p>\n",
       "</div>"
      ],
      "text/plain": [
       "                Date        Day Price Per Gram    Change\n",
       "0       01-01-2018       Monday    ₹ 1,910.27    +0.18% \n",
       "1       02-01-2018      Tuesday    ₹ 1,912.20    +0.10% \n",
       "2       03-01-2018    Wednesday    ₹ 1,917.98    +0.30% \n",
       "3       04-01-2018     Thursday    ₹ 1,932.21    +0.74% \n",
       "4       05-01-2018       Friday    ₹ 1,960.03    +1.42% \n",
       "...              ...        ...            ...       ...\n",
       "1494    28-09-2023     Thursday    ₹ 2,387.08    -1.04% \n",
       "1495    29-09-2023       Friday    ₹ 2,448.73    +2.52% \n",
       "1496    02-10-2023       Monday    ₹ 2,405.23    -1.81% \n",
       "1497    03-10-2023      Tuesday    ₹ 2,348.22    -2.43% \n",
       "1498    04-10-2023    Wednesday    ₹ 2,320.75    -1.18% \n",
       "\n",
       "[1499 rows x 4 columns]"
      ]
     },
     "execution_count": 7,
     "metadata": {},
     "output_type": "execute_result"
    }
   ],
   "source": [
    "platinum_price=pd.DataFrame({\"Date\":date,\"Day\":day,\"Price Per Gram\":price,\"Change\":change})\n",
    "platinum_price"
   ]
  },
  {
   "cell_type": "code",
   "execution_count": 8,
   "id": "6f27cc2f-d93a-401f-8982-52b16aacd23e",
   "metadata": {},
   "outputs": [],
   "source": [
    "platinum_price.to_csv(\"Platinum_Price_2018-23.csv\",index=False)"
   ]
  },
  {
   "cell_type": "code",
   "execution_count": 9,
   "id": "e3cc83a8-d92b-47ff-bf0c-063a19c076a4",
   "metadata": {},
   "outputs": [],
   "source": [
    "platinum_price=pd.read_csv(\"Platinum_Price_2018-23.csv\")"
   ]
  },
  {
   "cell_type": "code",
   "execution_count": 10,
   "id": "3ffed68a-d79a-437d-a6dc-c5a26e8c1b6a",
   "metadata": {},
   "outputs": [
    {
     "data": {
      "text/html": [
       "<div>\n",
       "<style scoped>\n",
       "    .dataframe tbody tr th:only-of-type {\n",
       "        vertical-align: middle;\n",
       "    }\n",
       "\n",
       "    .dataframe tbody tr th {\n",
       "        vertical-align: top;\n",
       "    }\n",
       "\n",
       "    .dataframe thead th {\n",
       "        text-align: right;\n",
       "    }\n",
       "</style>\n",
       "<table border=\"1\" class=\"dataframe\">\n",
       "  <thead>\n",
       "    <tr style=\"text-align: right;\">\n",
       "      <th></th>\n",
       "      <th>Date</th>\n",
       "      <th>Day</th>\n",
       "      <th>Price Per Gram</th>\n",
       "      <th>Change</th>\n",
       "    </tr>\n",
       "  </thead>\n",
       "  <tbody>\n",
       "    <tr>\n",
       "      <th>0</th>\n",
       "      <td>01-01-2018</td>\n",
       "      <td>Monday</td>\n",
       "      <td>₹ 1,910.27</td>\n",
       "      <td>+0.18%</td>\n",
       "    </tr>\n",
       "    <tr>\n",
       "      <th>1</th>\n",
       "      <td>02-01-2018</td>\n",
       "      <td>Tuesday</td>\n",
       "      <td>₹ 1,912.20</td>\n",
       "      <td>+0.10%</td>\n",
       "    </tr>\n",
       "    <tr>\n",
       "      <th>2</th>\n",
       "      <td>03-01-2018</td>\n",
       "      <td>Wednesday</td>\n",
       "      <td>₹ 1,917.98</td>\n",
       "      <td>+0.30%</td>\n",
       "    </tr>\n",
       "    <tr>\n",
       "      <th>3</th>\n",
       "      <td>04-01-2018</td>\n",
       "      <td>Thursday</td>\n",
       "      <td>₹ 1,932.21</td>\n",
       "      <td>+0.74%</td>\n",
       "    </tr>\n",
       "    <tr>\n",
       "      <th>4</th>\n",
       "      <td>05-01-2018</td>\n",
       "      <td>Friday</td>\n",
       "      <td>₹ 1,960.03</td>\n",
       "      <td>+1.42%</td>\n",
       "    </tr>\n",
       "    <tr>\n",
       "      <th>...</th>\n",
       "      <td>...</td>\n",
       "      <td>...</td>\n",
       "      <td>...</td>\n",
       "      <td>...</td>\n",
       "    </tr>\n",
       "    <tr>\n",
       "      <th>1494</th>\n",
       "      <td>28-09-2023</td>\n",
       "      <td>Thursday</td>\n",
       "      <td>₹ 2,387.08</td>\n",
       "      <td>-1.04%</td>\n",
       "    </tr>\n",
       "    <tr>\n",
       "      <th>1495</th>\n",
       "      <td>29-09-2023</td>\n",
       "      <td>Friday</td>\n",
       "      <td>₹ 2,448.73</td>\n",
       "      <td>+2.52%</td>\n",
       "    </tr>\n",
       "    <tr>\n",
       "      <th>1496</th>\n",
       "      <td>02-10-2023</td>\n",
       "      <td>Monday</td>\n",
       "      <td>₹ 2,405.23</td>\n",
       "      <td>-1.81%</td>\n",
       "    </tr>\n",
       "    <tr>\n",
       "      <th>1497</th>\n",
       "      <td>03-10-2023</td>\n",
       "      <td>Tuesday</td>\n",
       "      <td>₹ 2,348.22</td>\n",
       "      <td>-2.43%</td>\n",
       "    </tr>\n",
       "    <tr>\n",
       "      <th>1498</th>\n",
       "      <td>04-10-2023</td>\n",
       "      <td>Wednesday</td>\n",
       "      <td>₹ 2,320.75</td>\n",
       "      <td>-1.18%</td>\n",
       "    </tr>\n",
       "  </tbody>\n",
       "</table>\n",
       "<p>1499 rows × 4 columns</p>\n",
       "</div>"
      ],
      "text/plain": [
       "                Date        Day Price Per Gram    Change\n",
       "0       01-01-2018       Monday    ₹ 1,910.27    +0.18% \n",
       "1       02-01-2018      Tuesday    ₹ 1,912.20    +0.10% \n",
       "2       03-01-2018    Wednesday    ₹ 1,917.98    +0.30% \n",
       "3       04-01-2018     Thursday    ₹ 1,932.21    +0.74% \n",
       "4       05-01-2018       Friday    ₹ 1,960.03    +1.42% \n",
       "...              ...        ...            ...       ...\n",
       "1494    28-09-2023     Thursday    ₹ 2,387.08    -1.04% \n",
       "1495    29-09-2023       Friday    ₹ 2,448.73    +2.52% \n",
       "1496    02-10-2023       Monday    ₹ 2,405.23    -1.81% \n",
       "1497    03-10-2023      Tuesday    ₹ 2,348.22    -2.43% \n",
       "1498    04-10-2023    Wednesday    ₹ 2,320.75    -1.18% \n",
       "\n",
       "[1499 rows x 4 columns]"
      ]
     },
     "execution_count": 10,
     "metadata": {},
     "output_type": "execute_result"
    }
   ],
   "source": [
    "platinum_price"
   ]
  },
  {
   "cell_type": "code",
   "execution_count": null,
   "id": "cd731f0d-8c9b-40d7-8e4d-11a6ef898209",
   "metadata": {},
   "outputs": [],
   "source": []
  }
 ],
 "metadata": {
  "kernelspec": {
   "display_name": "Python 3 (ipykernel)",
   "language": "python",
   "name": "python3"
  },
  "language_info": {
   "codemirror_mode": {
    "name": "ipython",
    "version": 3
   },
   "file_extension": ".py",
   "mimetype": "text/x-python",
   "name": "python",
   "nbconvert_exporter": "python",
   "pygments_lexer": "ipython3",
   "version": "3.11.4"
  }
 },
 "nbformat": 4,
 "nbformat_minor": 5
}
