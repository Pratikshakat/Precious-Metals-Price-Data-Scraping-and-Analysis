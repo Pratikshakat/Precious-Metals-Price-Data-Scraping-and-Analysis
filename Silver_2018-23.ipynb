{
 "cells": [
  {
   "cell_type": "code",
   "execution_count": null,
   "id": "0bbf54ae-806d-401d-bc22-6b5b8491f98f",
   "metadata": {},
   "outputs": [],
   "source": []
  },
  {
   "cell_type": "code",
   "execution_count": 1,
   "id": "d17602d6-5c78-4a62-afbf-f0d56eb4a887",
   "metadata": {},
   "outputs": [
    {
     "name": "stdout",
     "output_type": "stream",
     "text": [
      "Defaulting to user installation because normal site-packages is not writeable\n",
      "Requirement already satisfied: requests in c:\\users\\omkar\\appdata\\roaming\\python\\python311\\site-packages (2.31.0)\n",
      "Requirement already satisfied: charset-normalizer<4,>=2 in c:\\users\\omkar\\appdata\\roaming\\python\\python311\\site-packages (from requests) (3.2.0)\n",
      "Requirement already satisfied: idna<4,>=2.5 in c:\\users\\omkar\\appdata\\roaming\\python\\python311\\site-packages (from requests) (3.4)\n",
      "Requirement already satisfied: urllib3<3,>=1.21.1 in c:\\users\\omkar\\appdata\\roaming\\python\\python311\\site-packages (from requests) (1.26.16)\n",
      "Requirement already satisfied: certifi>=2017.4.17 in c:\\users\\omkar\\appdata\\roaming\\python\\python311\\site-packages (from requests) (2023.7.22)\n",
      "Note: you may need to restart the kernel to use updated packages.\n"
     ]
    }
   ],
   "source": [
    "pip install requests"
   ]
  },
  {
   "cell_type": "code",
   "execution_count": 2,
   "id": "3b6bcefb-ebfb-41e8-9090-4e61439e6849",
   "metadata": {},
   "outputs": [
    {
     "name": "stdout",
     "output_type": "stream",
     "text": [
      "Defaulting to user installation because normal site-packages is not writeable\n",
      "Requirement already satisfied: beautifulsoup4 in c:\\users\\omkar\\appdata\\roaming\\python\\python311\\site-packages (4.12.2)\n",
      "Requirement already satisfied: soupsieve>1.2 in c:\\users\\omkar\\appdata\\roaming\\python\\python311\\site-packages (from beautifulsoup4) (2.4.1)\n",
      "Note: you may need to restart the kernel to use updated packages.\n"
     ]
    }
   ],
   "source": [
    "pip install beautifulsoup4"
   ]
  },
  {
   "cell_type": "code",
   "execution_count": 3,
   "id": "5b401f06-b565-4c62-9de2-9bfd3a80daa9",
   "metadata": {},
   "outputs": [
    {
     "name": "stdout",
     "output_type": "stream",
     "text": [
      "Defaulting to user installation because normal site-packages is not writeable\n",
      "Requirement already satisfied: pandas in c:\\users\\omkar\\appdata\\roaming\\python\\python311\\site-packages (2.1.1)\n",
      "Requirement already satisfied: numpy>=1.23.2 in c:\\users\\omkar\\appdata\\roaming\\python\\python311\\site-packages (from pandas) (1.26.0)\n",
      "Requirement already satisfied: python-dateutil>=2.8.2 in c:\\users\\omkar\\appdata\\roaming\\python\\python311\\site-packages (from pandas) (2.8.2)\n",
      "Requirement already satisfied: pytz>=2020.1 in c:\\users\\omkar\\appdata\\roaming\\python\\python311\\site-packages (from pandas) (2023.3)\n",
      "Requirement already satisfied: tzdata>=2022.1 in c:\\users\\omkar\\appdata\\roaming\\python\\python311\\site-packages (from pandas) (2023.3)\n",
      "Requirement already satisfied: six>=1.5 in c:\\users\\omkar\\appdata\\roaming\\python\\python311\\site-packages (from python-dateutil>=2.8.2->pandas) (1.16.0)\n",
      "Note: you may need to restart the kernel to use updated packages.\n"
     ]
    }
   ],
   "source": [
    "pip install pandas"
   ]
  },
  {
   "cell_type": "code",
   "execution_count": 4,
   "id": "6d682fac-7be5-47f6-8402-8ce9bb522533",
   "metadata": {},
   "outputs": [],
   "source": [
    "import pandas as pd \n",
    "import requests\n",
    "from bs4 import BeautifulSoup as bs"
   ]
  },
  {
   "cell_type": "code",
   "execution_count": 5,
   "id": "e5acab4c-a187-4901-8164-4411352a3751",
   "metadata": {},
   "outputs": [],
   "source": [
    "links=[2018,2019,2020,2021,2022,2023]\n",
    "date=[]\n",
    "day=[]\n",
    "price=[]\n",
    "change=[]\n",
    "for link in links:\n",
    "    site=requests.get(f\"https://www.rupeerates.in/Silver/{link}\")\n",
    "    #print(site)\n",
    "    site.content\n",
    "    data=bs(site.content,\"html.parser\")\n",
    "    data.prettify()\n",
    "    \n",
    "    for i in data.find_all('div',{\"class\":\"c\"})[4::4]:\n",
    "        date.append(i.text)\n",
    "    #print(date)\n",
    "   \n",
    "    for j in data.find_all('span',class_=\"day-caption\"):\n",
    "        day.append(j.text)\n",
    "    #print(day)\n",
    "    \n",
    "    for k in data.find_all('div',class_=\"c text-right\"):\n",
    "        price.append(k.text)\n",
    "    #print(price)\n",
    "    \n",
    "    for l in data.find_all('div', class_=\"c text-center\"):\n",
    "        change.append(l.text)\n",
    "    #print(change)"
   ]
  },
  {
   "cell_type": "code",
   "execution_count": 6,
   "id": "b57e949d-c018-48c2-b496-4b903b69d5d9",
   "metadata": {},
   "outputs": [
    {
     "name": "stdout",
     "output_type": "stream",
     "text": [
      "1499\n",
      "1499\n",
      "1499\n",
      "1499\n"
     ]
    }
   ],
   "source": [
    "print(len(date))\n",
    "print(len(day))\n",
    "print(len(price))\n",
    "print(len(change))"
   ]
  },
  {
   "cell_type": "code",
   "execution_count": 7,
   "id": "9ca70dcf-82aa-41a2-b10c-7f5253d7e909",
   "metadata": {},
   "outputs": [
    {
     "data": {
      "text/html": [
       "<div>\n",
       "<style scoped>\n",
       "    .dataframe tbody tr th:only-of-type {\n",
       "        vertical-align: middle;\n",
       "    }\n",
       "\n",
       "    .dataframe tbody tr th {\n",
       "        vertical-align: top;\n",
       "    }\n",
       "\n",
       "    .dataframe thead th {\n",
       "        text-align: right;\n",
       "    }\n",
       "</style>\n",
       "<table border=\"1\" class=\"dataframe\">\n",
       "  <thead>\n",
       "    <tr style=\"text-align: right;\">\n",
       "      <th></th>\n",
       "      <th>Date</th>\n",
       "      <th>Day</th>\n",
       "      <th>Price Per Gram</th>\n",
       "      <th>Change</th>\n",
       "    </tr>\n",
       "  </thead>\n",
       "  <tbody>\n",
       "    <tr>\n",
       "      <th>0</th>\n",
       "      <td>01-01-2018</td>\n",
       "      <td>Monday</td>\n",
       "      <td>₹ 34.835</td>\n",
       "      <td>+0.01%</td>\n",
       "    </tr>\n",
       "    <tr>\n",
       "      <th>1</th>\n",
       "      <td>02-01-2018</td>\n",
       "      <td>Tuesday</td>\n",
       "      <td>₹ 34.896</td>\n",
       "      <td>+0.17%</td>\n",
       "    </tr>\n",
       "    <tr>\n",
       "      <th>2</th>\n",
       "      <td>03-01-2018</td>\n",
       "      <td>Wednesday</td>\n",
       "      <td>₹ 34.787</td>\n",
       "      <td>-0.31%</td>\n",
       "    </tr>\n",
       "    <tr>\n",
       "      <th>3</th>\n",
       "      <td>04-01-2018</td>\n",
       "      <td>Thursday</td>\n",
       "      <td>₹ 34.760</td>\n",
       "      <td>-0.08%</td>\n",
       "    </tr>\n",
       "    <tr>\n",
       "      <th>4</th>\n",
       "      <td>05-01-2018</td>\n",
       "      <td>Friday</td>\n",
       "      <td>₹ 34.979</td>\n",
       "      <td>+0.63%</td>\n",
       "    </tr>\n",
       "    <tr>\n",
       "      <th>...</th>\n",
       "      <td>...</td>\n",
       "      <td>...</td>\n",
       "      <td>...</td>\n",
       "      <td>...</td>\n",
       "    </tr>\n",
       "    <tr>\n",
       "      <th>1494</th>\n",
       "      <td>28-09-2023</td>\n",
       "      <td>Thursday</td>\n",
       "      <td>₹ 60.360</td>\n",
       "      <td>-1.15%</td>\n",
       "    </tr>\n",
       "    <tr>\n",
       "      <th>1495</th>\n",
       "      <td>29-09-2023</td>\n",
       "      <td>Friday</td>\n",
       "      <td>₹ 61.673</td>\n",
       "      <td>+2.13%</td>\n",
       "    </tr>\n",
       "    <tr>\n",
       "      <th>1496</th>\n",
       "      <td>02-10-2023</td>\n",
       "      <td>Monday</td>\n",
       "      <td>₹ 57.817</td>\n",
       "      <td>-6.67%</td>\n",
       "    </tr>\n",
       "    <tr>\n",
       "      <th>1497</th>\n",
       "      <td>03-10-2023</td>\n",
       "      <td>Tuesday</td>\n",
       "      <td>₹ 56.357</td>\n",
       "      <td>-2.59%</td>\n",
       "    </tr>\n",
       "    <tr>\n",
       "      <th>1498</th>\n",
       "      <td>04-10-2023</td>\n",
       "      <td>Wednesday</td>\n",
       "      <td>₹ 56.489</td>\n",
       "      <td>+0.23%</td>\n",
       "    </tr>\n",
       "  </tbody>\n",
       "</table>\n",
       "<p>1499 rows × 4 columns</p>\n",
       "</div>"
      ],
      "text/plain": [
       "                Date        Day Price Per Gram    Change\n",
       "0       01-01-2018       Monday      ₹ 34.835    +0.01% \n",
       "1       02-01-2018      Tuesday      ₹ 34.896    +0.17% \n",
       "2       03-01-2018    Wednesday      ₹ 34.787    -0.31% \n",
       "3       04-01-2018     Thursday      ₹ 34.760    -0.08% \n",
       "4       05-01-2018       Friday      ₹ 34.979    +0.63% \n",
       "...              ...        ...            ...       ...\n",
       "1494    28-09-2023     Thursday      ₹ 60.360    -1.15% \n",
       "1495    29-09-2023       Friday      ₹ 61.673    +2.13% \n",
       "1496    02-10-2023       Monday      ₹ 57.817    -6.67% \n",
       "1497    03-10-2023      Tuesday      ₹ 56.357    -2.59% \n",
       "1498    04-10-2023    Wednesday      ₹ 56.489    +0.23% \n",
       "\n",
       "[1499 rows x 4 columns]"
      ]
     },
     "execution_count": 7,
     "metadata": {},
     "output_type": "execute_result"
    }
   ],
   "source": [
    "silver_price=pd.DataFrame({\"Date\":date,\"Day\":day,\"Price Per Gram\":price,\"Change\":change})\n",
    "silver_price"
   ]
  },
  {
   "cell_type": "code",
   "execution_count": 8,
   "id": "cbca631b-a5a9-4239-baac-b22f1a889d4c",
   "metadata": {},
   "outputs": [],
   "source": [
    "silver_price.to_csv(\"Silver_Price_2018-23.csv\",index=False)"
   ]
  },
  {
   "cell_type": "code",
   "execution_count": 9,
   "id": "6e0ad669-fcb3-4e90-80cc-ca621f3b6821",
   "metadata": {},
   "outputs": [],
   "source": [
    "silver_price=pd.read_csv(\"Silver_Price_2018-23.csv\")"
   ]
  },
  {
   "cell_type": "code",
   "execution_count": 10,
   "id": "0716dbfa-ff98-447b-96b0-4debbf0baad1",
   "metadata": {},
   "outputs": [
    {
     "data": {
      "text/html": [
       "<div>\n",
       "<style scoped>\n",
       "    .dataframe tbody tr th:only-of-type {\n",
       "        vertical-align: middle;\n",
       "    }\n",
       "\n",
       "    .dataframe tbody tr th {\n",
       "        vertical-align: top;\n",
       "    }\n",
       "\n",
       "    .dataframe thead th {\n",
       "        text-align: right;\n",
       "    }\n",
       "</style>\n",
       "<table border=\"1\" class=\"dataframe\">\n",
       "  <thead>\n",
       "    <tr style=\"text-align: right;\">\n",
       "      <th></th>\n",
       "      <th>Date</th>\n",
       "      <th>Day</th>\n",
       "      <th>Price Per Gram</th>\n",
       "      <th>Change</th>\n",
       "    </tr>\n",
       "  </thead>\n",
       "  <tbody>\n",
       "    <tr>\n",
       "      <th>0</th>\n",
       "      <td>01-01-2018</td>\n",
       "      <td>Monday</td>\n",
       "      <td>₹ 34.835</td>\n",
       "      <td>+0.01%</td>\n",
       "    </tr>\n",
       "    <tr>\n",
       "      <th>1</th>\n",
       "      <td>02-01-2018</td>\n",
       "      <td>Tuesday</td>\n",
       "      <td>₹ 34.896</td>\n",
       "      <td>+0.17%</td>\n",
       "    </tr>\n",
       "    <tr>\n",
       "      <th>2</th>\n",
       "      <td>03-01-2018</td>\n",
       "      <td>Wednesday</td>\n",
       "      <td>₹ 34.787</td>\n",
       "      <td>-0.31%</td>\n",
       "    </tr>\n",
       "    <tr>\n",
       "      <th>3</th>\n",
       "      <td>04-01-2018</td>\n",
       "      <td>Thursday</td>\n",
       "      <td>₹ 34.760</td>\n",
       "      <td>-0.08%</td>\n",
       "    </tr>\n",
       "    <tr>\n",
       "      <th>4</th>\n",
       "      <td>05-01-2018</td>\n",
       "      <td>Friday</td>\n",
       "      <td>₹ 34.979</td>\n",
       "      <td>+0.63%</td>\n",
       "    </tr>\n",
       "    <tr>\n",
       "      <th>...</th>\n",
       "      <td>...</td>\n",
       "      <td>...</td>\n",
       "      <td>...</td>\n",
       "      <td>...</td>\n",
       "    </tr>\n",
       "    <tr>\n",
       "      <th>1494</th>\n",
       "      <td>28-09-2023</td>\n",
       "      <td>Thursday</td>\n",
       "      <td>₹ 60.360</td>\n",
       "      <td>-1.15%</td>\n",
       "    </tr>\n",
       "    <tr>\n",
       "      <th>1495</th>\n",
       "      <td>29-09-2023</td>\n",
       "      <td>Friday</td>\n",
       "      <td>₹ 61.673</td>\n",
       "      <td>+2.13%</td>\n",
       "    </tr>\n",
       "    <tr>\n",
       "      <th>1496</th>\n",
       "      <td>02-10-2023</td>\n",
       "      <td>Monday</td>\n",
       "      <td>₹ 57.817</td>\n",
       "      <td>-6.67%</td>\n",
       "    </tr>\n",
       "    <tr>\n",
       "      <th>1497</th>\n",
       "      <td>03-10-2023</td>\n",
       "      <td>Tuesday</td>\n",
       "      <td>₹ 56.357</td>\n",
       "      <td>-2.59%</td>\n",
       "    </tr>\n",
       "    <tr>\n",
       "      <th>1498</th>\n",
       "      <td>04-10-2023</td>\n",
       "      <td>Wednesday</td>\n",
       "      <td>₹ 56.489</td>\n",
       "      <td>+0.23%</td>\n",
       "    </tr>\n",
       "  </tbody>\n",
       "</table>\n",
       "<p>1499 rows × 4 columns</p>\n",
       "</div>"
      ],
      "text/plain": [
       "                Date        Day Price Per Gram    Change\n",
       "0       01-01-2018       Monday      ₹ 34.835    +0.01% \n",
       "1       02-01-2018      Tuesday      ₹ 34.896    +0.17% \n",
       "2       03-01-2018    Wednesday      ₹ 34.787    -0.31% \n",
       "3       04-01-2018     Thursday      ₹ 34.760    -0.08% \n",
       "4       05-01-2018       Friday      ₹ 34.979    +0.63% \n",
       "...              ...        ...            ...       ...\n",
       "1494    28-09-2023     Thursday      ₹ 60.360    -1.15% \n",
       "1495    29-09-2023       Friday      ₹ 61.673    +2.13% \n",
       "1496    02-10-2023       Monday      ₹ 57.817    -6.67% \n",
       "1497    03-10-2023      Tuesday      ₹ 56.357    -2.59% \n",
       "1498    04-10-2023    Wednesday      ₹ 56.489    +0.23% \n",
       "\n",
       "[1499 rows x 4 columns]"
      ]
     },
     "execution_count": 10,
     "metadata": {},
     "output_type": "execute_result"
    }
   ],
   "source": [
    "silver_price"
   ]
  },
  {
   "cell_type": "code",
   "execution_count": null,
   "id": "f470f3d4-4918-4546-9c82-f3e9aaeb95a7",
   "metadata": {},
   "outputs": [],
   "source": []
  }
 ],
 "metadata": {
  "kernelspec": {
   "display_name": "Python 3 (ipykernel)",
   "language": "python",
   "name": "python3"
  },
  "language_info": {
   "codemirror_mode": {
    "name": "ipython",
    "version": 3
   },
   "file_extension": ".py",
   "mimetype": "text/x-python",
   "name": "python",
   "nbconvert_exporter": "python",
   "pygments_lexer": "ipython3",
   "version": "3.11.4"
  }
 },
 "nbformat": 4,
 "nbformat_minor": 5
}
